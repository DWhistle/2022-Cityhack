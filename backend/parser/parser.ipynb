{
 "cells": [
  {
   "cell_type": "code",
   "execution_count": 151,
   "id": "05df7766-5ca6-4f09-b1a3-7f98778fc42d",
   "metadata": {},
   "outputs": [],
   "source": [
    "from selenium import webdriver\n",
    "from webdriver_manager.chrome import ChromeDriverManager\n",
    "from selenium.webdriver.support.ui import WebDriverWait\n",
    "from selenium.webdriver.support import expected_conditions as EC\n",
    "from selenium.webdriver.common.by import By\n",
    "from selenium.common.exceptions import TimeoutException\n",
    "from selenium.webdriver.chrome.options import Options\n",
    "import optparse\n",
    "import requests\n",
    "from collections import defaultdict"
   ]
  },
  {
   "cell_type": "code",
   "execution_count": 114,
   "id": "8f24b6ee-2163-4242-abf5-ebb8f17e0e21",
   "metadata": {},
   "outputs": [],
   "source": [
    "def parse_productcenter(driver, page_num):\n",
    "    print(\"Started parsing\")\n",
    "    overall_data = {}\n",
    "    driver.get(f'https://productcenter.ru/producers/r-moskovskaia-obl-191/c-moskva-3109/page-{page_num}')\n",
    "\n",
    "    try:\n",
    "        myElem = WebDriverWait(driver, 10).until(EC.presence_of_element_located((By.CLASS_NAME, 'ci_main')))\n",
    "    except TimfirefoxutException:\n",
    "        print(\"Loading took too much time!\")\n",
    "    \n",
    "    elems = driver.find_elements(By.CLASS_NAME, 'ci_main')\n",
    "    links = []\n",
    "    for e in elems:\n",
    "        link = e.find_element(By.CLASS_NAME, 'link')\n",
    "        link = link.get_attribute('href')\n",
    "        links.append(link)\n",
    "    \n",
    "    \n",
    "    for link in links:\n",
    "        comp_data = defaultdict(lambda: '')\n",
    "        comp_data['link'] = link\n",
    "        driver.get(link)\n",
    "        try:\n",
    "            WebDriverWait(driver, 10).until(EC.presence_of_element_located((By.TAG_NAME, 'b')))\n",
    "        except TimeoutException:\n",
    "            print(\"Loading took too much time!\")\n",
    "            continue\n",
    "\n",
    "        elem = driver.find_element(By.XPATH, '//b[text()=\"Контакты\"]')\n",
    "        elem.click()\n",
    "        try:\n",
    "            e2 = driver.find_element(By.XPATH, '//span[@itemprop=\"telephone\"]')\n",
    "            comp_data[\"phone\"] = e2.text\n",
    "        except:\n",
    "            pass\n",
    "        \n",
    "        try:\n",
    "            e2 = driver.find_element(By.XPATH, '//span[@itemprop=\"email\"]')\n",
    "            comp_data[\"email\"] = e2.text\n",
    "        except:\n",
    "            pass\n",
    "            \n",
    "        e = driver.find_element(By.CLASS_NAME, 'company_data')\n",
    "        table = e.find_elements(By.TAG_NAME, 'tr')\n",
    "        for tr in table:\n",
    "            e = tr.find_elements(By.TAG_NAME, 'td')\n",
    "            key, value = e[0].text, e[1]\n",
    "            if key in mappings:\n",
    "                comp_data[key] = mappings[key](value)\n",
    "        if \"Наименование\" and \"ИНН\" in comp_data:\n",
    "            overall_data[comp_data[\"Наименование\"]] = comp_data\n",
    "        print(f'Producer has been parsed')\n",
    "    return overall_data\n",
    "\n"
   ]
  },
  {
   "cell_type": "code",
   "execution_count": 115,
   "id": "a8c83648-64dc-45f9-b1c3-387f0b46cb59",
   "metadata": {},
   "outputs": [],
   "source": [
    "mappings = {\n",
    "    \"Наименование\": lambda e: e.text,\n",
    "    \"Сотрудники\": lambda e: int(e.text),\n",
    "    \"ИНН\": lambda e: e.text,\n",
    "}"
   ]
  },
  {
   "cell_type": "code",
   "execution_count": null,
   "id": "715c8327-a80e-4000-902d-8559f500503e",
   "metadata": {},
   "outputs": [],
   "source": [
    "\n",
    "parser = optparse.OptionParser()\n",
    "\n",
    "parser.add_option('-n', '--page-number',\n",
    "    action=\"store\", dest=\"page\",\n",
    "    help=\"page number to parse\")\n",
    "\n",
    "parser.add_option('-l', '--api-link',\n",
    "    action=\"store\", dest=\"link\",\n",
    "    help=\"link to send results\")\n",
    "\n",
    "options, args = parser.parse_args()\n",
    "\n",
    "print(options)"
   ]
  },
  {
   "cell_type": "code",
   "execution_count": null,
   "id": "b5ac2f0e-580d-4bcb-ab82-c3f04260443f",
   "metadata": {},
   "outputs": [],
   "source": [
    "from selenium import webdriver\n",
    "from selenium.webdriver.common.desired_capabilities import DesiredCapabilities\n",
    "from time import sleep\n",
    "\n",
    "chrome_options = Options()\n",
    "chrome_options.add_argument('--headless')\n",
    "chrome_options.add_argument('--disable-extensions')\n",
    "chrome_options.add_argument('--disable-gpu')\n",
    "chrome_options.add_argument('--no-sandbox')\n",
    "chrome_options.add_argument('--disable-dev-shm-usage')\n",
    "while True:\n",
    "    try:\n",
    "        driver = webdriver.Remote(\"http://selenium:4444/wd/hub\", options=chrome_options)\n",
    "        break\n",
    "    except:\n",
    "        print(\"Not initialized\")\n",
    "        sleep(5)\n",
    "\n",
    "\n",
    "res = parse_productcenter(driver, options.page)\n",
    "driver.close()"
   ]
  },
  {
   "cell_type": "code",
   "execution_count": 152,
   "id": "14e0056c-db4d-4085-9b3c-76aed244f14d",
   "metadata": {},
   "outputs": [],
   "source": [
    "def send_user_data(ud):\n",
    "    requests.post('http://nginx/api/v1/user',\n",
    "                 json={\n",
    "                     \"url\": ud['link'],\n",
    "                     \"email\": ud['email'],\n",
    "                     \"phone\": ud['phone'],\n",
    "                     \"inn\": ud['ИНН'],\n",
    "                     \"login\": ud['ИНН'],\n",
    "                     \"description\": ud[\"Наименование\"],\n",
    "                     \"role\": \"ENTERPRISE\",\n",
    "                     \"status\": \"PENDING\",\n",
    "                      }\n",
    "                 )\n"
   ]
  },
  {
   "cell_type": "code",
   "execution_count": null,
   "id": "b93632b2-6a0e-4007-9cff-a31d76c5bede",
   "metadata": {},
   "outputs": [],
   "source": [
    "for _, v in res.items():\n",
    "    send_user_data(v)"
   ]
  }
 ],
 "metadata": {
  "kernelspec": {
   "display_name": "Python 3",
   "language": "python",
   "name": "python3"
  },
  "language_info": {
   "codemirror_mode": {
    "name": "ipython",
    "version": 3
   },
   "file_extension": ".py",
   "mimetype": "text/x-python",
   "name": "python",
   "nbconvert_exporter": "python",
   "pygments_lexer": "ipython3",
   "version": "3.8.9"
  }
 },
 "nbformat": 4,
 "nbformat_minor": 5
}
